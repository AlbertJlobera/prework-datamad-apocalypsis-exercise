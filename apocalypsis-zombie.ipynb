{
 "cells": [
  {
   "cell_type": "markdown",
   "metadata": {},
   "source": [
    "# Apocalipsis zombie\n",
    "\n",
    "![](./images/thewalkingdead.jpeg)\n",
    "\n",
    "Cargas un arsenal de armas y una mochila con cargadores de munición de tamaño variable para algunos tipos de armas. ¿Cuántos zombies puedes matar antes de tener que echar a correr por tu vida? Deberás imprimir el resultado de cada caso que corresponde al número de balas que tienes de las armas que cargas.  \n",
    "\n",
    "ALGORITMO: Por cada arma diferente que cargas, tienes que comprobar si portas cargadores para ella. Si esto es afirmativo deberás sumar el total de balas que podrás disparar. "
   ]
  },
  {
   "cell_type": "markdown",
   "metadata": {},
   "source": [
    "## Caso 0: Ejemplo simple"
   ]
  },
  {
   "cell_type": "code",
   "execution_count": 1,
   "metadata": {
    "scrolled": true
   },
   "outputs": [
    {
     "name": "stdout",
     "output_type": "stream",
     "text": [
      "Quedan un total de:  30\n"
     ]
    }
   ],
   "source": [
    "armas = ['pistola','escopeta']\n",
    "\n",
    "cargadores = {\n",
    "    'pistola': [10, 10], \n",
    "    'escopeta': [2, 2, 2, 2, 2]\n",
    "}\n",
    "\n",
    "balas=[]\n",
    "\n",
    "for e,i in cargadores.items():\n",
    "    balas.append(i)\n",
    "\n",
    "balas1=sum(balas[0])\n",
    "balas2=sum(balas[1])\n",
    "\n",
    "\n",
    "balas_totales=balas1 + balas2\n",
    "\n",
    "print(\"Quedan un total de: \", balas_totales)\n"
   ]
  },
  {
   "cell_type": "markdown",
   "metadata": {},
   "source": [
    "**Output esperado** -> 30"
   ]
  },
  {
   "cell_type": "markdown",
   "metadata": {},
   "source": [
    "## Caso 1: Mismas armas que municiones"
   ]
  },
  {
   "cell_type": "code",
   "execution_count": 2,
   "metadata": {
    "scrolled": true
   },
   "outputs": [
    {
     "name": "stdout",
     "output_type": "stream",
     "text": [
      " Total de cargadores para pistola:  6 Total de municion de la pistola:  71\n",
      " Total de cargadores para ametralladora:  2 Total de municion de la ametralladora:  73\n",
      " Total de cargadores para escopeta:  4 Total de municion de la escopeta:  7\n",
      " Total de cargadores para fusil de francotirador:  3 Total de municion de la fusil de francotirador:  7\n",
      "Total municion:  158\n"
     ]
    }
   ],
   "source": [
    "armas = ['pistola', 'ametralladora', 'escopeta', 'fusil de francotirador']\n",
    "\n",
    "cargadores = {\n",
    "    'pistola': [12, 13, 4, 5, 20, 17], \n",
    "    'ametralladora': [33, 40], \n",
    "    'escopeta': [2, 2, 2, 1], \n",
    "    'fusil de francotirador': [1, 2, 4]\n",
    "}\n",
    "\n",
    "list = [(k, v) for k, v in cargadores.items()] \n",
    "\n",
    "municion=[]\n",
    "\n",
    "for e in list:\n",
    "    municion+=e[-1]\n",
    "\n",
    "\n",
    "\n",
    "print(\" Total de cargadores para pistola: \", len(list[0][1]),\"Total de municion de la pistola: \",sum(list[0][1]))\n",
    "\n",
    "print(\" Total de cargadores para ametralladora: \", len(list[1][1]),\"Total de municion de la ametralladora: \",sum(list[1][1]))\n",
    "print(\" Total de cargadores para escopeta: \", len(list[2][1]),\"Total de municion de la escopeta: \",sum(list[2][1]))\n",
    "print(\" Total de cargadores para fusil de francotirador: \", len(list[3][1]),\"Total de municion de la fusil de francotirador: \",sum(list[3][1]))\n",
    "\n",
    "print(\"Total municion: \",sum(municion))\n",
    "        "
   ]
  },
  {
   "cell_type": "markdown",
   "metadata": {},
   "source": [
    "## Caso 2: Más tipos de munición que armas"
   ]
  },
  {
   "cell_type": "code",
   "execution_count": 137,
   "metadata": {},
   "outputs": [
    {
     "name": "stdout",
     "output_type": "stream",
     "text": [
      "[('pistola', [12, 13, 4, 5, 20, 17]), ('ametralladora', [33, 40]), ('escopeta', [2, 2, 2, 1]), ('fusil de francotirador', [1, 2, 4]), ('bazoka', [1, 1])]\n",
      "Extraemos los cargadores sobrantes:  bazoka\n"
     ]
    }
   ],
   "source": [
    "armas = ['pistola', 'ametralladora', 'escopeta', 'fusil de francotirador']\n",
    "\n",
    "cargadores = {\n",
    "    'pistola': [12, 13, 4, 5, 20, 17], \n",
    "    'ametralladora': [33, 40], \n",
    "    'escopeta': [2, 2, 2, 1], \n",
    "    'fusil de francotirador': [1, 2, 4], \n",
    "    'bazoka': [1, 1]\n",
    "}\n",
    "\n",
    "\n",
    "cargadores_utiles=[(e,i) for e,i in cargadores.items()]\n",
    "\n",
    "lst=[]\n",
    "\n",
    "for e in cargadores_utiles:\n",
    "    lst.append(e)\n",
    "print(lst)\n",
    "\n",
    "\n",
    "cargadores_sobrantes= cargadores_utiles[4][0]\n",
    "\n",
    "if cargadores_sobrantes in cargadores:\n",
    "    print(\"Extraemos los cargadores sobrantes: \", cargadores_sobrantes)\n",
    "    del cargadores[cargadores_sobrantes]\n",
    "    \n",
    "\n",
    "\n",
    "        \n",
    "#print(cargadores_utiles)\n"
   ]
  },
  {
   "cell_type": "markdown",
   "metadata": {},
   "source": [
    "## Caso 3: Más armas que tipos de munición"
   ]
  },
  {
   "cell_type": "code",
   "execution_count": 87,
   "metadata": {},
   "outputs": [
    {
     "name": "stdout",
     "output_type": "stream",
     "text": [
      "[['pistola', [12, 13, 4, 5, 20, 17]], ['ametralladora', [33, 40]], ['escopeta', [2, 2, 2, 1]]]\n",
      "Arma sobrante sin munición:  fusil de francotirador\n",
      "Armas utiles:  ['pistola', 'ametralladora', 'escopeta']\n"
     ]
    }
   ],
   "source": [
    "armas = ['pistola', 'ametralladora', 'escopeta', 'fusil de francotirador']\n",
    "\n",
    "cargadores = {\n",
    "    'pistola': [12, 13, 4, 5, 20, 17], \n",
    "    'ametralladora': [33, 40], \n",
    "    'escopeta': [2, 2, 2, 1] \n",
    "}\n",
    "\n",
    "cargadores1=[[e,i]for e,i in cargadores.items()]\n",
    "\n",
    "print(cargadores1)\n",
    "\n",
    "\n",
    "for e in armas:\n",
    "    if e not in cargadores.keys():\n",
    "        print(\"Arma sobrante sin munición: \", e)\n",
    "        armas.remove(e)\n",
    "\n",
    "\n",
    "\n",
    "print(\"Armas utiles: \", armas)\n",
    "\n"
   ]
  }
 ],
 "metadata": {
  "kernelspec": {
   "display_name": "Python 3",
   "language": "python",
   "name": "python3"
  },
  "language_info": {
   "codemirror_mode": {
    "name": "ipython",
    "version": 3
   },
   "file_extension": ".py",
   "mimetype": "text/x-python",
   "name": "python",
   "nbconvert_exporter": "python",
   "pygments_lexer": "ipython3",
   "version": "3.8.2"
  }
 },
 "nbformat": 4,
 "nbformat_minor": 2
}
